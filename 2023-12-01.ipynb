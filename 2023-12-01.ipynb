{
 "cells": [
  {
   "cell_type": "code",
   "execution_count": 58,
   "metadata": {},
   "outputs": [],
   "source": [
    "with open(\"2023-12-01_puzzle_input.txt\") as f:\n",
    "    data = f.read()\n",
    "\n",
    "assert 'zero' not in data\n"
   ]
  },
  {
   "cell_type": "code",
   "execution_count": 59,
   "metadata": {},
   "outputs": [
    {
     "data": {
      "text/plain": [
       "['9vxfg',\n",
       " '19qdlpmdrxone7sevennine',\n",
       " '1dzntwofour9nineffck',\n",
       " '7bx8hpldgzqjheight',\n",
       " 'joneseven2sseven64chvczzn']"
      ]
     },
     "execution_count": 59,
     "metadata": {},
     "output_type": "execute_result"
    }
   ],
   "source": [
    "puzzle_input = data.split(\"\\n\")\n",
    "puzzle_input[:5]\n"
   ]
  },
  {
   "cell_type": "code",
   "execution_count": 57,
   "metadata": {},
   "outputs": [
    {
     "name": "stdout",
     "output_type": "stream",
     "text": [
      "54277\n"
     ]
    }
   ],
   "source": [
    "from functools import reduce\n",
    "\n",
    "numerals = {\n",
    "    ('one', '1'),\n",
    "    ('two', '2'),\n",
    "    ('three', '3'),\n",
    "    ('four', '4'),\n",
    "    ('five', '5'),\n",
    "    ('six', '6'),\n",
    "    ('seven', '7'),\n",
    "    ('eight', '8'),\n",
    "    ('nine', '9'),\n",
    "}\n",
    "\n",
    "def find_digits(calibration: str) -> list[list[int, int]]:\n",
    "    if not calibration:\n",
    "        return 0\n",
    "\n",
    "    lowest = None\n",
    "    highest = None\n",
    "    # First check for digits\n",
    "    for idx, char in enumerate(calibration):\n",
    "        if char.isnumeric():\n",
    "            if lowest is None or idx < lowest[1]:\n",
    "                lowest = (char, idx)\n",
    "            if highest is None or idx > highest[1]:\n",
    "                highest = (char, idx)\n",
    "    if lowest is None and highest is None:\n",
    "        print(calibration)\n",
    "    # Then check for numerals\n",
    "    for numeral, digit in numerals:\n",
    "        cursor = 0\n",
    "        while cursor < len(numeral) + len(calibration):\n",
    "            numeral_idx = calibration.find(numeral, cursor)\n",
    "            if numeral_idx < 0:\n",
    "                break\n",
    "            if lowest is None or numeral_idx < lowest[1]:\n",
    "                lowest = (digit, numeral_idx)\n",
    "            if highest is None or numeral_idx > highest[1]:\n",
    "                highest = (digit, numeral_idx)\n",
    "            cursor = numeral_idx + len(numeral)\n",
    "    \n",
    "    return int(lowest[0] + highest[0])\n",
    "\n",
    "def sum_calibrations(calibrations: str) -> int:\n",
    "    print(reduce(lambda x, y: x + find_digits(y), calibrations, 0))\n"
   ]
  },
  {
   "cell_type": "code",
   "execution_count": null,
   "metadata": {},
   "outputs": [],
   "source": []
  }
 ],
 "metadata": {
  "kernelspec": {
   "display_name": "Python 3",
   "language": "python",
   "name": "python3"
  },
  "language_info": {
   "codemirror_mode": {
    "name": "ipython",
    "version": 3
   },
   "file_extension": ".py",
   "mimetype": "text/x-python",
   "name": "python",
   "nbconvert_exporter": "python",
   "pygments_lexer": "ipython3",
   "version": "3.10.13"
  }
 },
 "nbformat": 4,
 "nbformat_minor": 2
}
