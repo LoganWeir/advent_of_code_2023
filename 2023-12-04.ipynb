{
 "cells": [
  {
   "cell_type": "code",
   "execution_count": 15,
   "metadata": {},
   "outputs": [],
   "source": [
    "# Part 1\n",
    "\n",
    "import re\n",
    "\n",
    "total_score = 0\n",
    "\n",
    "with open(\"2023-12-04_puzzle_input.txt\") as f:\n",
    "    for line in f:\n",
    "        score = 0\n",
    "        winning, have =  re.sub(' +', ' ', line.split(\": \")[1].strip()).split(\" | \")\n",
    "        matching_numbers = len(set(winning.split(\" \")).intersection(set(have.split(\" \"))))\n",
    "\n",
    "        if matching_numbers > 0:\n",
    "            score += 1\n",
    "        if matching_numbers > 1:\n",
    "            # there's got to be a cleaner way to do this\n",
    "            for _ in range(matching_numbers -1):\n",
    "                score = score * 2\n",
    "        total_score += score\n",
    "\n",
    "# print(total_score)\n"
   ]
  },
  {
   "cell_type": "code",
   "execution_count": 16,
   "metadata": {},
   "outputs": [],
   "source": [
    "# Part 2\n",
    "# Inefficient, takes 6 seconds to run...\n",
    "\n",
    "import re\n",
    "from collections import defaultdict\n",
    "\n",
    "total_scratch_cards = 0\n",
    "\n",
    "cards = defaultdict(int)\n",
    "\n",
    "with open(\"2023-12-04_puzzle_input.txt\") as f:\n",
    "    for idx, line in enumerate(f):\n",
    "        # total_scratch_cards += 1\n",
    "        card_number = idx + 1\n",
    "        winning, have =  re.sub(' +', ' ', line.split(\": \")[1].strip()).split(\" | \")\n",
    "        matching_numbers = len(set(winning.split(\" \")).intersection(set(have.split(\" \"))))\n",
    "\n",
    "        for card in range(cards.get(card_number, 0) + 1):\n",
    "            total_scratch_cards += 1\n",
    "            for i in range(1, matching_numbers + 1):\n",
    "                cards[i + card_number] += 1\n",
    "\n",
    "# print(total_scratch_cards)\n"
   ]
  },
  {
   "cell_type": "code",
   "execution_count": null,
   "metadata": {},
   "outputs": [],
   "source": []
  }
 ],
 "metadata": {
  "kernelspec": {
   "display_name": "Python 3",
   "language": "python",
   "name": "python3"
  },
  "language_info": {
   "codemirror_mode": {
    "name": "ipython",
    "version": 3
   },
   "file_extension": ".py",
   "mimetype": "text/x-python",
   "name": "python",
   "nbconvert_exporter": "python",
   "pygments_lexer": "ipython3",
   "version": "3.10.13"
  }
 },
 "nbformat": 4,
 "nbformat_minor": 2
}
